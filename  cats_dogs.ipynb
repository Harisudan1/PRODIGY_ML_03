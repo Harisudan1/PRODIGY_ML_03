{
 "cells": [
  {
   "cell_type": "code",
   "execution_count": null,
   "id": "1e2291e6-922d-48a9-b164-e0882842e609",
   "metadata": {},
   "outputs": [],
   "source": [
    "import os\n",
    "import numpy as np\n",
    "from sklearn import svm\n",
    "from sklearn.metrics import accuracy_score\n",
    "from sklearn.model_selection import train_test_split\n",
    "import cv2\n",
    "from sklearn.preprocessing import StandardScaler\n",
    "\n",
    "# Set the path to your dataset\n",
    "train_path = r\"F:\\prodigy\\cats and dogs\\train\"\n",
    "test_path = r\"F:\\prodigy\\cats and dogs\\test\"\n",
    "\n",
    "# Function to load and preprocess images using OpenCV\n",
    "def load_images(folder_path, target_size=(50, 50)):\n",
    "    images = []\n",
    "    labels = []\n",
    "    for label, category in enumerate(['cats', 'dogs']):\n",
    "        category_path = os.path.join(folder_path, category)\n",
    "        for filename in os.listdir(category_path):\n",
    "            img_path = os.path.join(category_path, filename)\n",
    "            img = cv2.imread(img_path)\n",
    "            img = cv2.resize(img, target_size)\n",
    "            img_array = img.flatten()  # Flatten the image to use as a feature\n",
    "            images.append(img_array)\n",
    "            labels.append(label)\n",
    "    return np.array(images), np.array(labels)\n",
    "\n",
    "# Load and preprocess training data\n",
    "X_train, y_train = load_images(train_path)\n",
    "\n",
    "# Normalize the data\n",
    "scaler = StandardScaler()\n",
    "X_train = scaler.fit_transform(X_train)\n",
    "\n",
    "# Split the data into training and validation sets\n",
    "X_train, X_val, y_train, y_val = train_test_split(X_train, y_train, test_size=0.2, random_state=42)\n",
    "\n",
    "# Create an SVM classifier\n",
    "clf = svm.SVC()\n",
    "\n",
    "# Train the SVM classifier\n",
    "clf.fit(X_train, y_train)\n",
    "\n",
    "# Load and preprocess test data\n",
    "X_test, y_test = load_images(test_path)\n",
    "\n",
    "# Normalize the test data using the same scaler\n",
    "X_test = scaler.transform(X_test)\n",
    "\n",
    "# Predict on the test set\n",
    "y_test_pred = clf.predict(X_test)\n",
    "\n",
    "# Evaluate the accuracy on the test set\n",
    "test_accuracy = accuracy_score(y_test, y_test_pred)\n",
    "print(f'Test Accuracy: {test_accuracy * 100:.2f}%')\n"
   ]
  },
  {
   "cell_type": "code",
   "execution_count": null,
   "id": "0f45c72e-b043-40ad-934e-4be4c95d760d",
   "metadata": {},
   "outputs": [],
   "source": []
  },
  {
   "cell_type": "code",
   "execution_count": null,
   "id": "88e0ea65-74ce-495a-8d6d-4ccf50c595d9",
   "metadata": {},
   "outputs": [],
   "source": []
  }
 ],
 "metadata": {
  "kernelspec": {
   "display_name": "Python 3 (ipykernel)",
   "language": "python",
   "name": "python3"
  },
  "language_info": {
   "codemirror_mode": {
    "name": "ipython",
    "version": 3
   },
   "file_extension": ".py",
   "mimetype": "text/x-python",
   "name": "python",
   "nbconvert_exporter": "python",
   "pygments_lexer": "ipython3",
   "version": "3.12.0"
  }
 },
 "nbformat": 4,
 "nbformat_minor": 5
}
